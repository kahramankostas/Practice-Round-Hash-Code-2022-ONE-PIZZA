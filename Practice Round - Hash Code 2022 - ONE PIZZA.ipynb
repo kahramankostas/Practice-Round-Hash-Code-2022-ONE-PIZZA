{
 "cells": [
  {
   "cell_type": "markdown",
   "metadata": {},
   "source": [
    "# Practice Round - Hash Code 2022"
   ]
  },
  {
   "cell_type": "markdown",
   "metadata": {},
   "source": [
    "# One Pizza"
   ]
  },
  {
   "cell_type": "markdown",
   "metadata": {},
   "source": [
    "# Problem"
   ]
  },
  {
   "cell_type": "markdown",
   "metadata": {},
   "source": [
    "\n",
    "![](./img/pizzeria.gif)\n",
    "![](./img/pizza-poll.png)\n",
    "\n",
    "\n",
    "You are opening a small pizzeria. In fact, your pizzeria is **so** small that you decided to offer only **one type of pizza**. Now you need to decide what ingredients to include (peppers? tomatoes? both?).\n",
    "\n",
    "Everyone has their own pizza preferences. Each of your potential clients has some ingredients they like, and maybe some ingredients they dislike. Each client will come to your pizzeria if both conditions are true:\n",
    "\n",
    "1. **all** the ingredients they like are on the pizza, and\n",
    "2. **none** of the ingredients they dislike are on the pizza\n",
    "\n",
    "\n",
    "Each client is OK with additional ingredients they neither like or dislike being present on the pizza. Your task is to choose which ingredients to put on your only pizza type, to maximize the number of clients that will visit your pizzeria.\n",
    "\n",
    "\n",
    "## Input\n",
    "* The first line contains one integer $ 1 \\leqslant  C \\leqslant {10}^{5}$ the number of potential clients.\n",
    "* The following $2XC$ lines describe the clients’ preferences in the following format:\n",
    "\n",
    "    - First line contains integer  $ 1 \\leqslant  L \\leqslant 5$, followed by $L$ names of ingredients a client likes, delimited by spaces.\n",
    "    - Second line contains integer  $ 0 \\leqslant  D \\leqslant 5$, followed by $D$ names of ingredients a client dislikes, delimited by spaces.\n",
    "    \n",
    "    \n",
    "Each ingredient name consists of between 1 and 15 ASCII characters. Each character is one of the lowercase letters (a-z) or a digit (0-9).\n",
    "\n",
    "\n",
    "\n",
    "## Submission\n",
    "The submission should consist of one line consisting of a single number 0≤N followed by a list of N ingredients to put on the only pizza available in the pizzeria, separated by spaces. The list of ingredients should contain only the ingredients mentioned by at least one client, without duplicates.\n",
    "\n",
    "## Scoring\n",
    "A solution scores one point for each client that will come to your pizzeria. A client will come to your pizzeria if **all the ingredients they like** are on the pizza and **none of the ingredients they dislike** are on the pizza.\n",
    "\n",
    "\n",
    "## Sample\n",
    "![](./img/ornek.jpg)\n",
    "\n",
    "In the Sample Input there are $3$ potential clients:\n",
    "\n",
    "* The first client likes $2$ ingredients, cheese and peppers, and does not dislike anything.\n",
    "* The second client likes only basil and dislikes only pineapple.\n",
    "* The third client likes mushrooms and tomatoes and dislikes only basil\n",
    "\n",
    "\n",
    "The picture below shows the preferences of $3$ potential clients.\n",
    "![](./img/pizza-poll-examples.png)\n",
    "\n",
    "In this particular Sample Output, we choose to use 4 ingredients in the pizza: cheese, mushrooms, tomatoes, and peppers.\n",
    "![](./img/pizza-sample-output.png)\n",
    "\n",
    "\n",
    "\n",
    "* The first client likes the pizza because it contains both cheese and peppers, which they like.\n",
    "* The second client does not like the pizza: it does not contain basil which they like.\n",
    "* The third client likes the pizza because it contains mushrooms and tomatoes, which they like, and does not contain basil which they do not like.\n",
    "\n",
    "\n",
    "\n",
    "This means a submission of this output would score $2$ points for this case, because two clients (the first and third ones) would like this pizza.\n"
   ]
  },
  {
   "cell_type": "markdown",
   "metadata": {},
   "source": [
    "<center><h1>Solutions</h1></center>"
   ]
  },
  {
   "cell_type": "code",
   "execution_count": 1,
   "metadata": {},
   "outputs": [],
   "source": [
    "import os"
   ]
  },
  {
   "cell_type": "markdown",
   "metadata": {},
   "source": [
    "#### folder creation function.  creates the folders to put the outputs."
   ]
  },
  {
   "cell_type": "code",
   "execution_count": 2,
   "metadata": {},
   "outputs": [],
   "source": [
    "def folder(f_name): \n",
    "    try:\n",
    "        if not os.path.exists(f_name):\n",
    "            os.makedirs(f_name)\n",
    "    except OSError:\n",
    "        print (\"Tthe folder could not be created!\")"
   ]
  },
  {
   "cell_type": "markdown",
   "metadata": {},
   "source": [
    "#### The function that finds the locations of required files"
   ]
  },
  {
   "cell_type": "code",
   "execution_count": 3,
   "metadata": {},
   "outputs": [],
   "source": [
    "\n",
    "def find_the_way(path,file_format):\n",
    "    files_add = []\n",
    "    # r=root, d=directories, f = files\n",
    "    for r, d, f in os.walk(path):\n",
    "        for file in f:\n",
    "            if file_format in file:\n",
    "                files_add.append(os.path.join(r, file))  \n",
    "    return files_add\n",
    "files_add=find_the_way('./input/','.txt')"
   ]
  },
  {
   "cell_type": "markdown",
   "metadata": {},
   "source": [
    "#### This Function evaluates the results obtained. as output, it gives you how many people can eat the pizza you created."
   ]
  },
  {
   "cell_type": "code",
   "execution_count": 24,
   "metadata": {},
   "outputs": [],
   "source": [
    "def evaluate(outputfolder):\n",
    "    total=0\n",
    "    flag=0\n",
    "    for myfile in files_add:\n",
    "        like=[]\n",
    "        dislike=[]\n",
    "        counter=0\n",
    "        person=0\n",
    "        output_filename=outputfolder+myfile[8:]\n",
    "        with open(output_filename, \"r\") as file:\n",
    "            output=file.readline()\n",
    "        output=output.split(\" \")\n",
    "        output=output[1:]\n",
    "        with open(myfile, \"r\") as file:\n",
    "            while True:\n",
    "                line=file.readline()\n",
    "                if line==\"\":break\n",
    "                if counter!=0:\n",
    "                    line=line.replace(\"\\n\",\"\")\n",
    "                    line=line.split(\" \")\n",
    "                        \n",
    "                        \n",
    "                    if counter%2!=0:\n",
    "                        temp1=1\n",
    "                        for i in line[1:]:\n",
    "                            if i not in output:\n",
    "                                temp1=0\n",
    "                                \n",
    "                    if counter%2==0:\n",
    "                        temp2=1\n",
    "                        for i in line[1:]:\n",
    "                            if i in output:\n",
    "                                temp2=0  \n",
    "                        \n",
    "                        person+=(temp1 and temp2)                                 \n",
    "                \n",
    "                counter+=1\n",
    "        print('%-15s %-30s %-10s %-10s' % (\"File name: \",str(myfile),\" score:\",  str(person) ))\n",
    "            \n",
    "\n",
    "\n",
    "        total=total+person\n",
    "    print(f'Total score: {total}')"
   ]
  },
  {
   "cell_type": "markdown",
   "metadata": {},
   "source": [
    "#### Input File List"
   ]
  },
  {
   "cell_type": "code",
   "execution_count": 25,
   "metadata": {},
   "outputs": [
    {
     "data": {
      "text/plain": [
       "['./input/a_an_example.in.txt',\n",
       " './input/b_basic.in.txt',\n",
       " './input/c_coarse.in.txt',\n",
       " './input/d_difficult.in.txt',\n",
       " './input/e_elaborate.in.txt']"
      ]
     },
     "execution_count": 25,
     "metadata": {},
     "output_type": "execute_result"
    }
   ],
   "source": [
    "files_add"
   ]
  },
  {
   "cell_type": "markdown",
   "metadata": {},
   "source": [
    "# VERSION 1"
   ]
  },
  {
   "cell_type": "markdown",
   "metadata": {},
   "source": [
    "The first and simplest method that comes to mind is to bring together all the desired and unwanted materials in separate lists, and then remove the unwanted materials from the desired list.\n",
    "\n",
    "This method has been followed in version 1."
   ]
  },
  {
   "cell_type": "code",
   "execution_count": 26,
   "metadata": {},
   "outputs": [],
   "source": [
    "outputfolder=\"outputV1/\"\n",
    "folder(outputfolder)\n",
    "for myfile in files_add:\n",
    "    like=[]\n",
    "    dislike=[]\n",
    "    counter=0\n",
    "    with open(myfile, \"r\") as file:\n",
    "        while True:\n",
    "            line=file.readline()\n",
    "            if line==\"\":break\n",
    "            if counter!=0:\n",
    "                line=line.replace(\"\\n\",\"\")\n",
    "                #print(line,counter)\n",
    "                line=line.split(\" \")\n",
    "                if counter%2==0:\n",
    "                    for i in line[1:]:\n",
    "                        if i not in dislike:\n",
    "                            dislike.append(i)\n",
    "      \n",
    "                else:\n",
    "                    for i in line[1:]:\n",
    "                        if i not in like:\n",
    "                            like.append(i)\n",
    "            counter+=1\n",
    "    for i in dislike:\n",
    "        try:\n",
    "            like.remove(i)\n",
    "        except:pass\n",
    "    temp=(\" \".join( i for i in like ))\n",
    "    temp=str(len(like))+\" \"+temp\n",
    "    output_filename=outputfolder+myfile[8:]\n",
    "    ths = open(output_filename, \"w\")\n",
    "    ths.write(temp)\n",
    "    ths.close()"
   ]
  },
  {
   "cell_type": "markdown",
   "metadata": {},
   "source": [
    "#### Evaluation of version 1"
   ]
  },
  {
   "cell_type": "code",
   "execution_count": 27,
   "metadata": {},
   "outputs": [
    {
     "name": "stdout",
     "output_type": "stream",
     "text": [
      "File name:      ./input/a_an_example.in.txt     score:    2         \n",
      "File name:      ./input/b_basic.in.txt          score:    5         \n",
      "File name:      ./input/c_coarse.in.txt         score:    1         \n",
      "File name:      ./input/d_difficult.in.txt      score:    1420      \n",
      "File name:      ./input/e_elaborate.in.txt      score:    412       \n",
      "Total score: 1840\n"
     ]
    }
   ],
   "source": [
    "evaluate(outputfolder)"
   ]
  },
  {
   "cell_type": "markdown",
   "metadata": {},
   "source": [
    "# VERSION 2"
   ]
  },
  {
   "cell_type": "markdown",
   "metadata": {},
   "source": [
    "#### We never mentioned how many times the materials were repeated in the first version. However, this is very important information.\n",
    "\n",
    "\n",
    "#### In this version, the number of repetitions of all the liked and disliked material is kept in a dictionary. If the number of repetitions of an item in the list of disliked items is greater than the number of repetitions in the list of liked items, that item is removed from the list. Otherwise (if the number of likes is higher than the number of dislikes) it is kept in the list."
   ]
  },
  {
   "cell_type": "code",
   "execution_count": 28,
   "metadata": {},
   "outputs": [
    {
     "name": "stdout",
     "output_type": "stream",
     "text": [
      "./input/a_an_example.in.txt\n",
      "./input/b_basic.in.txt\n",
      "./input/c_coarse.in.txt\n",
      "./input/d_difficult.in.txt\n",
      "./input/e_elaborate.in.txt\n"
     ]
    }
   ],
   "source": [
    "outputfolder=\"outputV2/\"\n",
    "folder(outputfolder)\n",
    "for myfile in files_add:\n",
    "    \n",
    "    like=[]\n",
    "    dislike=[]\n",
    "    counter=0\n",
    "    hist_like = {}\n",
    "    hist_dislike = {}\n",
    "    with open(myfile, \"r\") as file:\n",
    "        while True:\n",
    "            line=file.readline()\n",
    "            if line==\"\":break\n",
    "            if counter!=0:\n",
    "                line=line.replace(\"\\n\",\"\")\n",
    "                line=line.split(\" \")\n",
    "                if counter%2==0:\n",
    "                    for i in line[1:]:\n",
    "                        hist_dislike[i] = hist_dislike.get(i, 0) + 1\n",
    "                        if i not in dislike:\n",
    "                            dislike.append(i)\n",
    "                else:\n",
    "                    for i in line[1:]:\n",
    "                        hist_like[i] = hist_like.get(i, 0) + 1\n",
    "                        if i not in like:\n",
    "                            like.append(i)\n",
    "            counter+=1\n",
    "            \n",
    "    for i in dislike:\n",
    "        try:\n",
    "            if hist_like[i]>hist_dislike[i]:\n",
    "                pass\n",
    "            else:\n",
    "                like.remove(i) \n",
    "        except:pass\n",
    "        \n",
    "        \n",
    "    temp=(\" \".join( i for i in like ))\n",
    "    temp=str(len(like))+\" \"+temp\n",
    "    output_filename=outputfolder+myfile[8:]\n",
    "    ths = open(output_filename, \"w\")\n",
    "    ths.write(temp)\n",
    "    ths.close()\n",
    "    print(myfile)\n",
    "    hist_like={k: v for k, v in sorted(hist_like.items(), key=lambda item: item[1])}\n",
    "    #print(\"\\n\\n\\n\\n\\nLikes:\",hist_like)\n",
    "    hist_dislike={k: v for k, v in sorted(hist_dislike.items(), key=lambda item: item[1])}\n",
    "    #print(\"\\nDisLikes:\",hist_dislike)\n",
    "\n"
   ]
  },
  {
   "cell_type": "markdown",
   "metadata": {},
   "source": [
    "#### Evaluation of version 2"
   ]
  },
  {
   "cell_type": "code",
   "execution_count": 29,
   "metadata": {},
   "outputs": [
    {
     "name": "stdout",
     "output_type": "stream",
     "text": [
      "File name:      ./input/a_an_example.in.txt     score:    2         \n",
      "File name:      ./input/b_basic.in.txt          score:    5         \n",
      "File name:      ./input/c_coarse.in.txt         score:    4         \n",
      "File name:      ./input/d_difficult.in.txt      score:    1697      \n",
      "File name:      ./input/e_elaborate.in.txt      score:    799       \n",
      "Total score: 2507\n"
     ]
    }
   ],
   "source": [
    "evaluate(outputfolder)"
   ]
  },
  {
   "cell_type": "markdown",
   "metadata": {},
   "source": [
    "# VERSION 3"
   ]
  },
  {
   "cell_type": "markdown",
   "metadata": {},
   "source": [
    "#### Another feature that we will add in the last step is to reduce the influence of overly selective customers. For example, if a customer doesn't like an ingredient, it may be wise to remove that ingredient from our list to gain that customer. however, if a customer doesn't like 10 materials, it will be wiser to ignore that customer or reduce their influence.\n",
    "\n",
    "#### In this step, we have added a method that reduces the impact of such customers. While adding the number of disliked items, we divided this number by how many items the customer disliked.\n",
    "\n",
    "#### For example, if customer A dislikes tomato, mushrooms and bacon, we add 1/3 point from here to the dislike value of tomato (tomato/length of customer A's dislike list). If customer B only doesn't like the tomato then we add 1 point to the dislike value of the tomato (tomato/length of customer B's dislike list)."
   ]
  },
  {
   "cell_type": "code",
   "execution_count": 30,
   "metadata": {},
   "outputs": [
    {
     "name": "stdout",
     "output_type": "stream",
     "text": [
      "./input/a_an_example.in.txt\n",
      "./input/b_basic.in.txt\n",
      "./input/c_coarse.in.txt\n",
      "./input/d_difficult.in.txt\n",
      "./input/e_elaborate.in.txt\n"
     ]
    }
   ],
   "source": [
    "outputfolder=\"outputV3/\"\n",
    "folder(outputfolder)\n",
    "\n",
    "\n",
    "for myfile in files_add:\n",
    "    \n",
    "    like=[]\n",
    "    dislike=[]\n",
    "    counter=0\n",
    "    hist_like = {}\n",
    "    hist_dislike = {}\n",
    "    with open(myfile, \"r\") as file:\n",
    "        while True:\n",
    "            line=file.readline()\n",
    "            if line==\"\":break\n",
    "            if counter!=0:\n",
    "                line=line.replace(\"\\n\",\"\")\n",
    "                line=line.split(\" \")\n",
    "                if counter%2==0:\n",
    "                    for i in line[1:]:\n",
    "                        hist_dislike[i] = hist_dislike.get(i, 0) + 1/len(line[1:])\n",
    "                        if i not in dislike:\n",
    "                            dislike.append(i)\n",
    "                else:\n",
    "                    for i in line[1:]:\n",
    "                        hist_like[i] = hist_like.get(i, 0) + 1\n",
    "                        if i not in like:\n",
    "                            like.append(i)\n",
    "            counter+=1\n",
    "            \n",
    "    for i in dislike:\n",
    "        try:\n",
    "            if hist_like[i]>hist_dislike[i]:\n",
    "                pass\n",
    "            else:\n",
    "                like.remove(i) \n",
    "        except:pass\n",
    "        \n",
    "        \n",
    "    temp=(\" \".join( i for i in like ))\n",
    "    temp=str(len(like))+\" \"+temp\n",
    "    output_filename=outputfolder+myfile[8:]\n",
    "    ths = open(output_filename, \"w\")\n",
    "    ths.write(temp)\n",
    "    ths.close()\n",
    "    print(myfile)\n",
    "    hist_like={k: v for k, v in sorted(hist_like.items(), key=lambda item: item[1])}\n",
    "    #print(\"\\n\\n\\n\\n\\nLikes:\",hist_like)\n",
    "    hist_dislike={k: v for k, v in sorted(hist_dislike.items(), key=lambda item: item[1])}\n",
    "    #print(\"\\nDisLikes:\",hist_dislike)\n",
    "\n",
    "\n",
    "# In[53]:\n"
   ]
  },
  {
   "cell_type": "code",
   "execution_count": 31,
   "metadata": {},
   "outputs": [
    {
     "name": "stdout",
     "output_type": "stream",
     "text": [
      "File name:      ./input/a_an_example.in.txt     score:    2         \n",
      "File name:      ./input/b_basic.in.txt          score:    5         \n",
      "File name:      ./input/c_coarse.in.txt         score:    4         \n",
      "File name:      ./input/d_difficult.in.txt      score:    1480      \n",
      "File name:      ./input/e_elaborate.in.txt      score:    1247      \n",
      "Total score: 2738\n"
     ]
    }
   ],
   "source": [
    "evaluate(outputfolder)"
   ]
  }
 ],
 "metadata": {
  "kernelspec": {
   "display_name": "Python 3",
   "language": "python",
   "name": "python3"
  },
  "language_info": {
   "codemirror_mode": {
    "name": "ipython",
    "version": 3
   },
   "file_extension": ".py",
   "mimetype": "text/x-python",
   "name": "python",
   "nbconvert_exporter": "python",
   "pygments_lexer": "ipython3",
   "version": "3.6.5"
  }
 },
 "nbformat": 4,
 "nbformat_minor": 2
}
